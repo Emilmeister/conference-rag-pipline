{
 "cells": [
  {
   "cell_type": "code",
   "id": "initial_id",
   "metadata": {
    "collapsed": true,
    "ExecuteTime": {
     "end_time": "2025-05-29T01:37:20.546845Z",
     "start_time": "2025-05-29T01:37:19.099843Z"
    }
   },
   "source": [
    "import json\n",
    "import asyncio\n",
    "from agents import Agent, RunContextWrapper\n",
    "from agents import set_default_openai_client, set_default_openai_api, set_trace_processors, Runner, trace, gen_trace_id, \\\n",
    "    function_tool\n",
    "from agents.agent import StopAtTools\n",
    "from openai.types.responses import EasyInputMessageParam\n",
    "from phoenix.otel import register\n",
    "from dotenv import load_dotenv\n",
    "from agents.models import openai_provider\n",
    "from openai import AsyncOpenAI\n",
    "import logging\n",
    "import os\n",
    "import ssl\n",
    "import requests\n",
    "import numpy as np\n",
    "import re\n",
    "\n",
    "from typing_extensions import Any\n",
    "\n",
    "# Настройка логирования\n",
    "logging.basicConfig(level=logging.INFO, format='%(asctime)s - %(levelname)s - %(message)s')\n",
    "\n",
    "load_dotenv()\n",
    "\n",
    "ssl._create_default_https_context = ssl._create_unverified_context\n",
    "\n",
    "PHOENIX_TRACE_URL = os.getenv(\"PHOENIX_TRACE_URL\", 'http://176.99.133.173:6006/v1/traces')\n",
    "PHOENIX_PROJECT_NAME = os.getenv(\"PHOENIX_PROJECT_NAME\", 'ragas-test')\n",
    "OPENAI_API_KEY = os.getenv(\"OPENAI_API_KEY\", '1')\n",
    "OPENAI_API_URL = os.getenv(\"OPENAI_API_URL\", 'http://176.99.133.173:11434/v1')\n",
    "DEFAULT_MODEL = os.getenv(\"DEFAULT_MODEL\", 'qwen2.5:7b')\n",
    "RETRIEVER_URL = os.getenv(\"RETRIEVER_URL\", 'http://176.99.133.173:8503/retrieve')\n",
    "\n",
    "# configure the Phoenix tracer\n",
    "set_trace_processors([])\n",
    "tracer_provider = register(\n",
    "    project_name=PHOENIX_PROJECT_NAME,\n",
    "    endpoint=PHOENIX_TRACE_URL,\n",
    "    auto_instrument=True\n",
    ")\n",
    "\n",
    "set_default_openai_client(AsyncOpenAI(base_url=OPENAI_API_URL, api_key=OPENAI_API_KEY, timeout=60 * 5))\n",
    "set_default_openai_api('chat_completions')\n",
    "openai_provider.DEFAULT_MODEL = DEFAULT_MODEL\n",
    "\n",
    "\n",
    "def remove_think_tags(text: str) -> str:\n",
    "    \"\"\"Удаляет теги <think> и их содержимое из текста.\n",
    "\n",
    "    Args:\n",
    "        text: Исходный текст, который может содержать теги <think>.\n",
    "\n",
    "    Returns:\n",
    "        Текст без тегов <think> и их содержимого.\n",
    "    \"\"\"\n",
    "    return re.sub(r'<think>.*?</think>', '', text, flags=re.DOTALL)\n",
    "\n",
    "class AsyncRunner:\n",
    "    @staticmethod\n",
    "    def run_async(func, *args, **kwargs):\n",
    "        loop = asyncio.get_running_loop()\n",
    "        try:\n",
    "            return loop.run_until_complete(func(*args, **kwargs))\n",
    "        finally:\n",
    "            loop.close()\n",
    "\n",
    "\n",
    "\n",
    "@function_tool\n",
    "def rag_search(wrapper: RunContextWrapper[Any], query: str) -> str:\n",
    "    \"\"\"\n",
    "    Используй для поиска релевантной информации в записях видеоконференций\n",
    "    :param query: поисковый запрос\n",
    "    :return: список релевантных документов\n",
    "\n",
    "    Примеры query:\n",
    "    1. Как зовут собаку Даши?\n",
    "    2. К каким выводам пришли в результате обсуждения архитектуры нового автомобиля?\n",
    "    3. Какие задачи стоят перед командой продаж?\n",
    "    \"\"\"\n",
    "    return rag_search_inner(wrapper, query)\n",
    "\n",
    "\n",
    "def rag_search_inner(wrapper: RunContextWrapper[Any], query: str) -> str:\n",
    "    try:\n",
    "        logging.info(f'rag_search_context: {json.dumps(wrapper.context)}')\n",
    "        filters = {\n",
    "            'query': query,\n",
    "            'classic_search_num': 50,\n",
    "            'vector_search_num': 50,\n",
    "            'max_get_num': 5,\n",
    "            'room_uuid': wrapper.context['room_uuid'] if 'room_uuid' in wrapper.context else \"\"\n",
    "        }\n",
    "        text_objs = requests.post(RETRIEVER_URL, json=filters).json()\n",
    "        scores = [x['score'] for x in text_objs]\n",
    "        texts_magic_sort = []\n",
    "        idx_s = np.argsort(-np.array(scores))\n",
    "\n",
    "        wrapper.context['ranked_results'] = []\n",
    "\n",
    "        for idx in idx_s:\n",
    "            wrapper.context['ranked_results'] = wrapper.context['ranked_results'] + [text_objs[idx]['parent_chunk']]\n",
    "\n",
    "        splitter = '%$$%#'\n",
    "\n",
    "        available_room_uuids_strs = set([f\"{x['room_uuid']}{splitter}{x['meeting_label']}\" for x in text_objs])\n",
    "        wrapper.context['available_room_uuids'] = []\n",
    "\n",
    "        for available_room_uuids_str in available_room_uuids_strs:\n",
    "            room_uuid = available_room_uuids_str.split(sep=splitter)[0]\n",
    "            meeting_label = available_room_uuids_str.split(sep=splitter)[1]\n",
    "            wrapper.context['available_room_uuids'].append({\n",
    "                'room_uuid': room_uuid,\n",
    "                'meeting_label': meeting_label\n",
    "            })\n",
    "\n",
    "        for idx in idx_s:\n",
    "            doc_string = f\"Часть записи видеоконференции c UUID {text_objs[idx]['room_uuid']}:\\n{text_objs[idx]['parent_chunk']}\"\n",
    "            if idx % 2 == 1:\n",
    "                texts_magic_sort = texts_magic_sort + [doc_string]\n",
    "            else:\n",
    "                texts_magic_sort = [doc_string] + texts_magic_sort\n",
    "\n",
    "        context = '\\n----\\n\\n'.join(texts_magic_sort)\n",
    "        return \"Полученные записи видеоконференций:\\n\\n\" + context\n",
    "    except Exception as e:\n",
    "        logging.error(e)\n",
    "        return \"Произошла ошибка при запросе к сервису извлечения знаний из видеоконференций\"\n",
    "\n",
    "\n",
    "# Function to run a query with error handling\n",
    "async def run_agent_query_async(messages, context):\n",
    "    try:\n",
    "        agent = Agent(\n",
    "            name=\"Videoconference helper\",\n",
    "            instructions=\"\"\"\n",
    "Ты помощник по поиску информации и ответам по видеоконференциям.\n",
    "Используй tool rag_search для нахождения релевантной для ответа информации.\n",
    "Если релевантной информации не нашлось, то сообщи об этом пользователю.\n",
    "Отвечай точно на поставленный вопрос и не пиши лишнего что не относится к контексту вопроса.\n",
    "Перед ответом обязательно вызови rag_search\n",
    "            \"\"\",\n",
    "            tools=[rag_search]\n",
    "        )\n",
    "        trace_id = gen_trace_id()\n",
    "        with trace(workflow_name=\"Question Answering\", trace_id=trace_id):\n",
    "            result = await Runner.run(starting_agent=agent, input=messages, context=context)\n",
    "            return result, trace_id\n",
    "    except Exception as e:\n",
    "        logging.error(f\"Error processing query: {str(e)}\")\n",
    "        return f\"Failed to process query: {str(e)}\", None\n",
    "\n",
    "\n",
    "import nest_asyncio\n",
    "nest_asyncio.apply()\n",
    "\n",
    "def run_in_jupyter(messages, context):\n",
    "    try:\n",
    "        # Получаем текущий event loop (уже запущенный в Jupyter)\n",
    "        loop = asyncio.get_event_loop()\n",
    "\n",
    "        # Запускаем корутину в существующем loop\n",
    "        if loop.is_running():\n",
    "            # Если loop уже работает (как в Jupyter), используем create_task\n",
    "            task = loop.create_task(run_agent_query_async(messages, context))\n",
    "            # Для простоты ждем завершения (в реальном коде лучше использовать await)\n",
    "            return loop.run_until_complete(task)\n",
    "        else:\n",
    "            # Если loop не работает (как в обычном скрипте)\n",
    "            return loop.run_until_complete(run_agent_query_async(messages, context))\n",
    "    except Exception as e:\n",
    "        logging.error(f\"Error in Jupyter runner: {str(e)}\")\n",
    "        return f\"Failed to run in Jupyter: {str(e)}\", None\n",
    "\n",
    "\n",
    "\n"
   ],
   "outputs": [
    {
     "name": "stdout",
     "output_type": "stream",
     "text": [
      "🔭 OpenTelemetry Tracing Details 🔭\n",
      "|  Phoenix Project: ragas-test\n",
      "|  Span Processor: SimpleSpanProcessor\n",
      "|  Collector Endpoint: http://176.99.133.173:6006/v1/traces\n",
      "|  Transport: HTTP + protobuf\n",
      "|  Transport Headers: {}\n",
      "|  \n",
      "|  Using a default SpanProcessor. `add_span_processor` will overwrite this default.\n",
      "|  \n",
      "|  ⚠️ WARNING: It is strongly advised to use a BatchSpanProcessor in production environments.\n",
      "|  \n",
      "|  `register` has set this TracerProvider as the global OpenTelemetry default.\n",
      "|  To disable this behavior, call `register` with `set_global_tracer_provider=False`.\n",
      "\n"
     ]
    }
   ],
   "execution_count": 1
  },
  {
   "metadata": {
    "ExecuteTime": {
     "end_time": "2025-05-29T01:37:20.553170Z",
     "start_time": "2025-05-29T01:37:20.548820Z"
    }
   },
   "cell_type": "code",
   "source": [
    "def get_answer(query):\n",
    "    context = {'room_uuid': '77779de4-851e-411f-b1e4-acf69268c8b6'}\n",
    "    result, trace_id = run_in_jupyter(\n",
    "        [EasyInputMessageParam(role='user', content=query)],\n",
    "        context=context\n",
    "    )\n",
    "\n",
    "    return remove_think_tags(result.final_output), context['ranked_results']"
   ],
   "id": "ea46a53b779cbd2a",
   "outputs": [],
   "execution_count": 2
  },
  {
   "metadata": {
    "ExecuteTime": {
     "end_time": "2025-05-29T01:37:20.569930Z",
     "start_time": "2025-05-29T01:37:20.555030Z"
    }
   },
   "cell_type": "code",
   "source": [
    "data = [\n",
    "    {\n",
    "        \"user_input\": \"Какая книга и какая глава из нее рекомендуются к прочтению для более глубокого понимания английских школ?\",\n",
    "        \"answer\": \"Рекомендуется книга Всеволода Овчинникова «Корни дуба», в частности глава «Старый школьный галстук».\"\n",
    "    },\n",
    "    {\n",
    "        \"user_input\": \"Чьи слова о том, что битва при Ватерлоо была выиграна на спортивных площадках Итона, часто повторяют англичане?\",\n",
    "        \"answer\": \"Англичане часто повторяют слова герцога Веллингтонского о том, что битва при Ватерлоо была выиграна на спортивных площадках Итона.\"\n",
    "    },\n",
    "    {\n",
    "        \"user_input\": \"Какую роль закрытых частных школ подчеркнул герцог Веллингтонский в своей знаменитой фразе?\",\n",
    "        \"answer\": \"Герцог Веллингтонский подчеркнул роль закрытых частных школ в формировании элиты общества.\"\n",
    "    },\n",
    "    {\n",
    "        \"user_input\": \"Каково основное назначение публичной школы в Англии, согласно тексту?\",\n",
    "        \"answer\": \"Основное назначение такой школы – воспитать джентльмена.\"\n",
    "    },\n",
    "    {\n",
    "        \"user_input\": \"Каково назначение джентльмена, как его трактует текст?\",\n",
    "        \"answer\": \"Назначение джентльмена — возглавить и повести за собой людей в час трудных испытаний.\"\n",
    "    },\n",
    "    {\n",
    "        \"user_input\": \"Что парадоксального в названии «публичная школа» (public school) в Англии?\",\n",
    "        \"answer\": \"Парадоксальность названия «публичная школа» в Англии заключается в том, что это не что иное, как частная школа.\"\n",
    "    },\n",
    "    {\n",
    "        \"user_input\": \"Какое образование давали публичные школы в Англии со средних веков?\",\n",
    "        \"answer\": \"Публичные школы в Англии со средних веков давали классическое образование, необходимое для публичной карьеры, такой как деятельность служителя церкви или государственного чиновника.\"\n",
    "    },\n",
    "    {\n",
    "        \"user_input\": \"Какой процент от общего числа школьников в настоящее время обучается в публичных школах Англии?\",\n",
    "        \"answer\": \"В настоящее время в подобных учебных заведениях насчитывается менее пяти процентов общего числа школьников.\"\n",
    "    },\n",
    "    {\n",
    "        \"user_input\": \"Кто и когда ввел новшества, которые сформировали публичные школы в их нынешнем виде?\",\n",
    "        \"answer\": \"Доктор Томас Арнольд, возглавивший публичную школу Регби в 1827 году, ввел новшества, которые сформировали публичные школы в их нынешнем виде.\"\n",
    "    },\n",
    "    {\n",
    "        \"user_input\": \"Какие новые потребности породили реформы Томаса Арнольда в публичных школах?\",\n",
    "        \"answer\": \"Реформы Томаса Арнольда отражали новые потребности, порожденные ростом империи, которой требовались люди с определенными чертами характера для военной и гражданской службы в заморских владениях, помимо традиционного классического образования.\"\n",
    "    },\n",
    "    {\n",
    "        \"user_input\": \"Что поставил во главу угла Томас Арнольд при реформировании публичных школ, в отличие от средневековых школ?\",\n",
    "        \"answer\": \"В отличие от средневековых школ, где упор делали на совершенствовании духа через религию, Томас Арнольд поставил во главу угла формирование характера, используя для этого спорт.\"\n",
    "    },\n",
    "    {\n",
    "        \"user_input\": \"В каком порядке Томас Арнольд перечислил воспитательные цели публичной школы?\",\n",
    "        \"answer\": \"Томас Арнольд перечислил воспитательные цели публичной школы в следующем порядке: во-первых, моральные принципы; во-вторых, джентльменское поведение; и, в-третьих, умственные способности.\"\n",
    "    },\n",
    "    {\n",
    "        \"user_input\": \"Какие виды спорта доминируют в публичных школах и почему?\",\n",
    "        \"answer\": \"В публичных школах доминируют спортивные игры (командные состязания), так как они считаются эффективным средством воспитания командного духа («team spirit») и умения повиноваться дисциплине.\"\n",
    "    },\n",
    "    {\n",
    "        \"user_input\": \"Что, по мнению англичан, обретает хороший игрок в составе школьной команды?\",\n",
    "        \"answer\": \"По мнению англичан, хороший игрок в составе школьной команды обретает задатки руководителя и общественного деятеля.\"\n",
    "    },\n",
    "    {\n",
    "        \"user_input\": \"Как публичные школы видоизменили средневековый рыцарский кодекс чести?\",\n",
    "        \"answer\": \"Публичные школы видоизменили средневековый рыцарский кодекс чести, сделав спортивную этику, понятие «честной игры» («фэйр-плей»), важнейшим нравственным принципом и мерилом порядочности.\"\n",
    "    },\n",
    "    {\n",
    "        \"user_input\": \"Какие два нововведения Томаса Арнольда, помимо спорта, упоминаются в тексте?\",\n",
    "        \"answer\": \"Томас Арнольд, во-первых, добавил к латыни и розге спорт как рычаг воспитания, а во-вторых, вложил розгу в руки старшеклассников, что по-русски называется «дедовщина». Вторым важным нововведением явилась система старшинства (внутренней субординации).\"\n",
    "    },\n",
    "    {\n",
    "        \"user_input\": \"Как организационно устроена публичная школа для углубления субординации?\",\n",
    "        \"answer\": \"Для углубления субординации публичная школа организационно делится не горизонтально (на классы), а вертикально – на «дома», где воспитанники всех классов остаются весь срок обучения.\"\n",
    "    },\n",
    "    {\n",
    "        \"user_input\": \"Какой самый первый и самый суровый урок преподает публичная школа новичку через старшеклассников?\",\n",
    "        \"answer\": \"Самый первый и самый суровый урок, который публичная школа преподает новичку через старшеклассников, – это необходимость беспрекословно подчиняться всякому, кто по школьной субординации стоит хотя бы на ступеньку выше.\"\n",
    "    },\n",
    "    {\n",
    "        \"user_input\": \"Какими методами прививают идеи субординации новичкам в английской публичной школе?\",\n",
    "        \"answer\": \"Идеи субординации новичкам прививают не нравоучениями, а унизительными обычаями, наряду с которыми существует вполне официальная система телесных наказаний (розга).\"\n",
    "    },\n",
    "    {\n",
    "        \"user_input\": \"Какова роль выпускного (шестого) класса в публичной школе?\",\n",
    "        \"answer\": \"Выпускной (шестой) класс является как бы унтер-офицерским (сержантским) костяком школы; эти подростки отвечают за порядок и вправе применять к младшим дисциплинарные наказания и поощрения.\"\n",
    "    },\n",
    "    {\n",
    "        \"user_input\": \"Какова основная цель изоляции подростка от семьи и внешнего мира в системе воспитания публичных школ?\",\n",
    "        \"answer\": \"Считается, что лишь совместная жизнь в стенах интерната может привести к тесному и глубокому знанию друг друга, при котором эффективно прививаются и качества подчинённых, и качества руководителей.\"\n",
    "    },\n",
    "    {\n",
    "        \"user_input\": \"Какие спартанские условия жизни упоминаются как средство закалки в публичных школах?\",\n",
    "        \"answer\": \"В качестве средства закалки упоминаются спартанские условия жизни, в частности, холод и голод, которые воспитывают твёрдость духа, выносливость и самообладание.\"\n",
    "    },\n",
    "    {\n",
    "        \"user_input\": \"Какой девиз, по мнению автора, мог бы подойти многим публичным школам относительно питания?\",\n",
    "        \"answer\": \"Девизом многих публичных школ поистине могли бы стать слова «Чем хуже питание, тем лучше воспитание».\"\n",
    "    },\n",
    "    {\n",
    "        \"user_input\": \"Приведите пример суровых условий в публичной школе Гордонстоун.\",\n",
    "        \"answer\": \"В публичной школе Гордонстоун воспитанники ходят в шортах и принимают холодный душ даже зимой, окна в спальнях держат круглый год открытыми, и не разрешается накрываться больше, чем двумя тонкими одеялами.\"\n",
    "    },\n",
    "    {\n",
    "        \"user_input\": \"Какую роль выполняют корпоративные галстуки, и особенно галстук публичной школы, в Британии?\",\n",
    "        \"answer\": \"Корпоративные галстуки служат средством социальной классификации. Галстук публичной школы считается наиболее престижным и позволяет судить об образованности, характере, круге знакомств и принадлежности к избранной касте.\"\n",
    "    },\n",
    "    {\n",
    "        \"user_input\": \"Какая игра слов существует в английском языке, связанная со «школьными галстуками»?\",\n",
    "        \"answer\": \"Выражения «школьные галстуки» и «школьные связи» по-английски звучат одинаково («school tie»), так как слово «tie» означает и «галстук», и «связь» одновременно.\"\n",
    "    },\n",
    "    {\n",
    "        \"user_input\": \"Какие четыре школы составляют «элиту элит» среди наиболее старых публичных школ?\",\n",
    "        \"answer\": \"Элиту элит среди наиболее старых публичных школ составляют Итон, Винчестер, Рэгби и Харроу.\"\n",
    "    },\n",
    "    {\n",
    "        \"user_input\": \"Чем Итон отличается от других публичных школ в плане близости к власти и формирования кадров?\",\n",
    "        \"answer\": \"Итон всегда был ближе к Королевскому двору; лично монарх назначает главу Совета попечителей. Из стен Итона вышло восемнадцать премьер-министров. Эта школа больше других напоминает наследственный клуб для политических деятелей.\"\n",
    "    },\n",
    "    {\n",
    "        \"user_input\": \"Чем Винчестер отличается от Итона в плане отбора учеников и подготовки?\",\n",
    "        \"answer\": \"Винчестеру свойственно уделять больше внимания отбору по способностям, там строже вступительные экзамены. Он дает более основательную подготовку для университета и славится воспитанием «жесткой верхней губы» (самообладания и невозмутимости).\"\n",
    "    },\n",
    "    {\n",
    "        \"user_input\": \"О чем в первую очередь думают английские родители, выбирая для сына публичную школу вроде Итона или Винчестера?\",\n",
    "        \"answer\": \"Английские родители думают прежде всего о воздействии, какое окажет публичная школа на характер их сына, о манере поведения, особом выговоре, которые останутся с ним на всю жизнь, а также о друзьях и связях («старый школьный галстук»), которые помогут ему в последующей жизни.\"\n",
    "    }\n",
    "]"
   ],
   "id": "8127024ed0774382",
   "outputs": [],
   "execution_count": 3
  },
  {
   "metadata": {
    "ExecuteTime": {
     "end_time": "2025-05-29T01:37:22.152802Z",
     "start_time": "2025-05-29T01:37:20.571388Z"
    }
   },
   "cell_type": "code",
   "source": [
    "from ragas.llms import LangchainLLMWrapper\n",
    "from langchain_openai import ChatOpenAI\n",
    "from ragas import SingleTurnSample\n",
    "from ragas.metrics import LLMContextPrecisionWithoutReference, LLMContextPrecisionWithReference\n",
    "\n",
    "evaluator_llm = LangchainLLMWrapper(ChatOpenAI(model=DEFAULT_MODEL, base_url=OPENAI_API_URL, openai_api_key=OPENAI_API_KEY))\n",
    "\n",
    "context_precision = LLMContextPrecisionWithReference(llm=evaluator_llm)\n",
    "\n",
    "def run_in_jupyter_LLMContextPrecisionWithReference(sample):\n",
    "    # Получаем текущий event loop (уже запущенный в Jupyter)\n",
    "    loop = asyncio.get_event_loop()\n",
    "\n",
    "    # Запускаем корутину в существующем loop\n",
    "    if loop.is_running():\n",
    "        # Если loop уже работает (как в Jupyter), используем create_task\n",
    "        task = loop.create_task(context_precision.single_turn_ascore(sample))\n",
    "        # Для простоты ждем завершения (в реальном коде лучше использовать await)\n",
    "        return loop.run_until_complete(task)\n",
    "    else:\n",
    "        # Если loop не работает (как в обычном скрипте)\n",
    "        return loop.run_until_complete(context_precision.single_turn_ascore(sample))\n",
    "\n"
   ],
   "id": "a70c1f8a7521983f",
   "outputs": [],
   "execution_count": 4
  },
  {
   "metadata": {
    "ExecuteTime": {
     "end_time": "2025-05-29T01:37:22.160713Z",
     "start_time": "2025-05-29T01:37:22.155516Z"
    }
   },
   "cell_type": "code",
   "source": [
    "from ragas.dataset_schema import SingleTurnSample\n",
    "from ragas.metrics import LLMContextRecall\n",
    "\n",
    "context_recall = LLMContextRecall(llm=evaluator_llm)\n",
    "\n",
    "\n",
    "def run_in_jupyter_LLMContextRecall(sample):\n",
    "    # Получаем текущий event loop (уже запущенный в Jupyter)\n",
    "    loop = asyncio.get_event_loop()\n",
    "\n",
    "    # Запускаем корутину в существующем loop\n",
    "    if loop.is_running():\n",
    "        # Если loop уже работает (как в Jupyter), используем create_task\n",
    "        task = loop.create_task(context_recall.single_turn_ascore(sample))\n",
    "        # Для простоты ждем завершения (в реальном коде лучше использовать await)\n",
    "        return loop.run_until_complete(task)\n",
    "    else:\n",
    "        # Если loop не работает (как в обычном скрипте)\n",
    "        return loop.run_until_complete(context_recall.single_turn_ascore(sample))"
   ],
   "id": "1ac4bf308596cdd2",
   "outputs": [],
   "execution_count": 5
  },
  {
   "metadata": {
    "ExecuteTime": {
     "end_time": "2025-05-29T01:46:57.214061Z",
     "start_time": "2025-05-29T01:37:22.162261Z"
    }
   },
   "cell_type": "code",
   "source": [
    "precisions = []\n",
    "recalls = []\n",
    "for x in data:\n",
    "    try:\n",
    "        print(x['user_input'])\n",
    "        llm_answer, retrived_chunks = get_answer(x['user_input'])\n",
    "        sample = SingleTurnSample(\n",
    "            user_input=x['user_input'],\n",
    "            response=llm_answer,\n",
    "            reference=x['answer'],\n",
    "            retrieved_contexts=retrived_chunks,\n",
    "        )\n",
    "        precision = run_in_jupyter_LLMContextPrecisionWithReference(sample)\n",
    "        recall = run_in_jupyter_LLMContextRecall(sample)\n",
    "        precisions.append(precision)\n",
    "        recalls.append(recall)\n",
    "        print(f'context precision={precision}', f'context recall={recall}')\n",
    "        print(f'mean context precision={np.mean(precisions)}', f'mean context recall={np.mean(recalls)}')\n",
    "        \n",
    "    except Exception as e:\n",
    "        print(str(e))"
   ],
   "id": "48b0f82e478a89a1",
   "outputs": [
    {
     "name": "stdout",
     "output_type": "stream",
     "text": [
      "Какая книга и какая глава из нее рекомендуются к прочтению для более глубокого понимания английских школ?\n"
     ]
    },
    {
     "name": "stderr",
     "output_type": "stream",
     "text": [
      "2025-05-29 04:37:22,856 - INFO - HTTP Request: POST http://176.99.133.173:11434/v1/chat/completions \"HTTP/1.1 200 OK\"\n",
      "2025-05-29 04:37:22,885 - INFO - rag_search_context: {\"room_uuid\": \"77779de4-851e-411f-b1e4-acf69268c8b6\"}\n",
      "2025-05-29 04:37:39,114 - INFO - HTTP Request: POST http://176.99.133.173:11434/v1/chat/completions \"HTTP/1.1 200 OK\"\n",
      "2025-05-29 04:37:40,873 - INFO - HTTP Request: POST http://176.99.133.173:11434/v1/chat/completions \"HTTP/1.1 200 OK\"\n",
      "2025-05-29 04:37:42,174 - INFO - HTTP Request: POST http://176.99.133.173:11434/v1/chat/completions \"HTTP/1.1 200 OK\"\n",
      "2025-05-29 04:37:43,684 - INFO - HTTP Request: POST http://176.99.133.173:11434/v1/chat/completions \"HTTP/1.1 200 OK\"\n",
      "2025-05-29 04:37:45,360 - INFO - HTTP Request: POST http://176.99.133.173:11434/v1/chat/completions \"HTTP/1.1 200 OK\"\n",
      "2025-05-29 04:37:46,625 - INFO - HTTP Request: POST http://176.99.133.173:11434/v1/chat/completions \"HTTP/1.1 200 OK\"\n",
      "2025-05-29 04:37:50,647 - INFO - HTTP Request: POST http://176.99.133.173:11434/v1/chat/completions \"HTTP/1.1 200 OK\"\n"
     ]
    },
    {
     "name": "stdout",
     "output_type": "stream",
     "text": [
      "context precision=0.9999999999 context recall=1.0\n",
      "mean context precision=0.9999999999 mean context recall=1.0\n",
      "Чьи слова о том, что битва при Ватерлоо была выиграна на спортивных площадках Итона, часто повторяют англичане?\n"
     ]
    },
    {
     "name": "stderr",
     "output_type": "stream",
     "text": [
      "2025-05-29 04:37:51,368 - INFO - HTTP Request: POST http://176.99.133.173:11434/v1/chat/completions \"HTTP/1.1 200 OK\"\n",
      "2025-05-29 04:37:51,381 - INFO - rag_search_context: {\"room_uuid\": \"77779de4-851e-411f-b1e4-acf69268c8b6\"}\n",
      "2025-05-29 04:38:12,866 - INFO - HTTP Request: POST http://176.99.133.173:11434/v1/chat/completions \"HTTP/1.1 200 OK\"\n",
      "2025-05-29 04:38:14,487 - INFO - HTTP Request: POST http://176.99.133.173:11434/v1/chat/completions \"HTTP/1.1 200 OK\"\n",
      "2025-05-29 04:38:15,793 - INFO - HTTP Request: POST http://176.99.133.173:11434/v1/chat/completions \"HTTP/1.1 200 OK\"\n",
      "2025-05-29 04:38:17,156 - INFO - HTTP Request: POST http://176.99.133.173:11434/v1/chat/completions \"HTTP/1.1 200 OK\"\n",
      "2025-05-29 04:38:18,481 - INFO - HTTP Request: POST http://176.99.133.173:11434/v1/chat/completions \"HTTP/1.1 200 OK\"\n",
      "2025-05-29 04:38:19,909 - INFO - HTTP Request: POST http://176.99.133.173:11434/v1/chat/completions \"HTTP/1.1 200 OK\"\n",
      "2025-05-29 04:38:22,860 - INFO - HTTP Request: POST http://176.99.133.173:11434/v1/chat/completions \"HTTP/1.1 200 OK\"\n",
      "2025-05-29 04:38:26,207 - INFO - HTTP Request: POST http://176.99.133.173:11434/v1/chat/completions \"HTTP/1.1 200 OK\"\n",
      "2025-05-29 04:38:28,897 - INFO - HTTP Request: POST http://176.99.133.173:11434/v1/chat/completions \"HTTP/1.1 200 OK\"\n",
      "2025-05-29 04:38:31,610 - INFO - HTTP Request: POST http://176.99.133.173:11434/v1/chat/completions \"HTTP/1.1 200 OK\"\n",
      "2025-05-29 04:38:31,623 - ERROR - Prompt fix_output_format failed to parse output: The output parser failed to parse the output including retries.\n",
      "2025-05-29 04:38:31,624 - ERROR - Prompt fix_output_format failed to parse output: The output parser failed to parse the output including retries.\n",
      "2025-05-29 04:38:31,625 - ERROR - Prompt fix_output_format failed to parse output: The output parser failed to parse the output including retries.\n",
      "2025-05-29 04:38:31,625 - ERROR - Prompt context_recall_classification_prompt failed to parse output: The output parser failed to parse the output including retries.\n"
     ]
    },
    {
     "name": "stdout",
     "output_type": "stream",
     "text": [
      "The output parser failed to parse the output including retries.\n",
      "Какую роль закрытых частных школ подчеркнул герцог Веллингтонский в своей знаменитой фразе?\n"
     ]
    },
    {
     "name": "stderr",
     "output_type": "stream",
     "text": [
      "2025-05-29 04:38:32,322 - INFO - HTTP Request: POST http://176.99.133.173:11434/v1/chat/completions \"HTTP/1.1 200 OK\"\n",
      "2025-05-29 04:38:32,337 - INFO - rag_search_context: {\"room_uuid\": \"77779de4-851e-411f-b1e4-acf69268c8b6\"}\n",
      "2025-05-29 04:38:49,688 - INFO - HTTP Request: POST http://176.99.133.173:11434/v1/chat/completions \"HTTP/1.1 200 OK\"\n",
      "2025-05-29 04:38:51,180 - INFO - HTTP Request: POST http://176.99.133.173:11434/v1/chat/completions \"HTTP/1.1 200 OK\"\n",
      "2025-05-29 04:38:52,544 - INFO - HTTP Request: POST http://176.99.133.173:11434/v1/chat/completions \"HTTP/1.1 200 OK\"\n",
      "2025-05-29 04:38:53,948 - INFO - HTTP Request: POST http://176.99.133.173:11434/v1/chat/completions \"HTTP/1.1 200 OK\"\n",
      "2025-05-29 04:38:55,036 - INFO - HTTP Request: POST http://176.99.133.173:11434/v1/chat/completions \"HTTP/1.1 200 OK\"\n",
      "2025-05-29 04:38:56,321 - INFO - HTTP Request: POST http://176.99.133.173:11434/v1/chat/completions \"HTTP/1.1 200 OK\"\n",
      "2025-05-29 04:38:59,758 - INFO - HTTP Request: POST http://176.99.133.173:11434/v1/chat/completions \"HTTP/1.1 200 OK\"\n"
     ]
    },
    {
     "name": "stdout",
     "output_type": "stream",
     "text": [
      "context precision=0.9999999999 context recall=1.0\n",
      "mean context precision=0.9999999999 mean context recall=1.0\n",
      "Каково основное назначение публичной школы в Англии, согласно тексту?\n"
     ]
    },
    {
     "name": "stderr",
     "output_type": "stream",
     "text": [
      "2025-05-29 04:39:01,702 - INFO - HTTP Request: POST http://176.99.133.173:11434/v1/chat/completions \"HTTP/1.1 200 OK\"\n",
      "2025-05-29 04:39:01,716 - INFO - rag_search_context: {\"room_uuid\": \"77779de4-851e-411f-b1e4-acf69268c8b6\"}\n",
      "2025-05-29 04:39:20,567 - INFO - HTTP Request: POST http://176.99.133.173:11434/v1/chat/completions \"HTTP/1.1 200 OK\"\n",
      "2025-05-29 04:39:22,041 - INFO - HTTP Request: POST http://176.99.133.173:11434/v1/chat/completions \"HTTP/1.1 200 OK\"\n",
      "2025-05-29 04:39:23,310 - INFO - HTTP Request: POST http://176.99.133.173:11434/v1/chat/completions \"HTTP/1.1 200 OK\"\n",
      "2025-05-29 04:39:24,748 - INFO - HTTP Request: POST http://176.99.133.173:11434/v1/chat/completions \"HTTP/1.1 200 OK\"\n",
      "2025-05-29 04:39:25,878 - INFO - HTTP Request: POST http://176.99.133.173:11434/v1/chat/completions \"HTTP/1.1 200 OK\"\n",
      "2025-05-29 04:39:27,118 - INFO - HTTP Request: POST http://176.99.133.173:11434/v1/chat/completions \"HTTP/1.1 200 OK\"\n",
      "2025-05-29 04:39:29,792 - INFO - HTTP Request: POST http://176.99.133.173:11434/v1/chat/completions \"HTTP/1.1 200 OK\"\n"
     ]
    },
    {
     "name": "stdout",
     "output_type": "stream",
     "text": [
      "context precision=0.7499999999625 context recall=1.0\n",
      "mean context precision=0.9166666665875001 mean context recall=1.0\n",
      "Каково назначение джентльмена, как его трактует текст?\n"
     ]
    },
    {
     "name": "stderr",
     "output_type": "stream",
     "text": [
      "2025-05-29 04:39:31,858 - INFO - HTTP Request: POST http://176.99.133.173:11434/v1/chat/completions \"HTTP/1.1 200 OK\"\n",
      "2025-05-29 04:39:31,873 - INFO - rag_search_context: {\"room_uuid\": \"77779de4-851e-411f-b1e4-acf69268c8b6\"}\n",
      "2025-05-29 04:39:48,008 - INFO - HTTP Request: POST http://176.99.133.173:11434/v1/chat/completions \"HTTP/1.1 200 OK\"\n",
      "2025-05-29 04:39:49,360 - INFO - HTTP Request: POST http://176.99.133.173:11434/v1/chat/completions \"HTTP/1.1 200 OK\"\n",
      "2025-05-29 04:39:50,529 - INFO - HTTP Request: POST http://176.99.133.173:11434/v1/chat/completions \"HTTP/1.1 200 OK\"\n",
      "2025-05-29 04:39:51,628 - INFO - HTTP Request: POST http://176.99.133.173:11434/v1/chat/completions \"HTTP/1.1 200 OK\"\n",
      "2025-05-29 04:39:52,947 - INFO - HTTP Request: POST http://176.99.133.173:11434/v1/chat/completions \"HTTP/1.1 200 OK\"\n",
      "2025-05-29 04:39:54,197 - INFO - HTTP Request: POST http://176.99.133.173:11434/v1/chat/completions \"HTTP/1.1 200 OK\"\n",
      "2025-05-29 04:39:57,083 - INFO - HTTP Request: POST http://176.99.133.173:11434/v1/chat/completions \"HTTP/1.1 200 OK\"\n"
     ]
    },
    {
     "name": "stdout",
     "output_type": "stream",
     "text": [
      "context precision=0.7499999999625 context recall=1.0\n",
      "mean context precision=0.8749999999312501 mean context recall=1.0\n",
      "Что парадоксального в названии «публичная школа» (public school) в Англии?\n"
     ]
    },
    {
     "name": "stderr",
     "output_type": "stream",
     "text": [
      "2025-05-29 04:39:57,693 - INFO - HTTP Request: POST http://176.99.133.173:11434/v1/chat/completions \"HTTP/1.1 200 OK\"\n"
     ]
    },
    {
     "name": "stdout",
     "output_type": "stream",
     "text": [
      "'ranked_results'\n",
      "Какое образование давали публичные школы в Англии со средних веков?\n"
     ]
    },
    {
     "name": "stderr",
     "output_type": "stream",
     "text": [
      "2025-05-29 04:39:58,235 - INFO - HTTP Request: POST http://176.99.133.173:11434/v1/chat/completions \"HTTP/1.1 200 OK\"\n",
      "2025-05-29 04:39:58,249 - INFO - rag_search_context: {\"room_uuid\": \"77779de4-851e-411f-b1e4-acf69268c8b6\"}\n",
      "2025-05-29 04:40:22,098 - INFO - HTTP Request: POST http://176.99.133.173:11434/v1/chat/completions \"HTTP/1.1 200 OK\"\n",
      "2025-05-29 04:40:23,658 - INFO - HTTP Request: POST http://176.99.133.173:11434/v1/chat/completions \"HTTP/1.1 200 OK\"\n",
      "2025-05-29 04:40:24,999 - INFO - HTTP Request: POST http://176.99.133.173:11434/v1/chat/completions \"HTTP/1.1 200 OK\"\n",
      "2025-05-29 04:40:26,381 - INFO - HTTP Request: POST http://176.99.133.173:11434/v1/chat/completions \"HTTP/1.1 200 OK\"\n",
      "2025-05-29 04:40:27,720 - INFO - HTTP Request: POST http://176.99.133.173:11434/v1/chat/completions \"HTTP/1.1 200 OK\"\n",
      "2025-05-29 04:40:29,084 - INFO - HTTP Request: POST http://176.99.133.173:11434/v1/chat/completions \"HTTP/1.1 200 OK\"\n",
      "2025-05-29 04:40:32,210 - INFO - HTTP Request: POST http://176.99.133.173:11434/v1/chat/completions \"HTTP/1.1 200 OK\"\n"
     ]
    },
    {
     "name": "stdout",
     "output_type": "stream",
     "text": [
      "context precision=0.9999999999 context recall=1.0\n",
      "mean context precision=0.8999999999250001 mean context recall=1.0\n",
      "Какой процент от общего числа школьников в настоящее время обучается в публичных школах Англии?\n"
     ]
    },
    {
     "name": "stderr",
     "output_type": "stream",
     "text": [
      "2025-05-29 04:40:32,918 - INFO - HTTP Request: POST http://176.99.133.173:11434/v1/chat/completions \"HTTP/1.1 200 OK\"\n"
     ]
    },
    {
     "name": "stdout",
     "output_type": "stream",
     "text": [
      "'ranked_results'\n",
      "Кто и когда ввел новшества, которые сформировали публичные школы в их нынешнем виде?\n"
     ]
    },
    {
     "name": "stderr",
     "output_type": "stream",
     "text": [
      "2025-05-29 04:40:33,648 - INFO - HTTP Request: POST http://176.99.133.173:11434/v1/chat/completions \"HTTP/1.1 200 OK\"\n"
     ]
    },
    {
     "name": "stdout",
     "output_type": "stream",
     "text": [
      "'ranked_results'\n",
      "Какие новые потребности породили реформы Томаса Арнольда в публичных школах?\n"
     ]
    },
    {
     "name": "stderr",
     "output_type": "stream",
     "text": [
      "2025-05-29 04:40:35,584 - INFO - HTTP Request: POST http://176.99.133.173:11434/v1/chat/completions \"HTTP/1.1 200 OK\"\n"
     ]
    },
    {
     "name": "stdout",
     "output_type": "stream",
     "text": [
      "'ranked_results'\n",
      "Что поставил во главу угла Томас Арнольд при реформировании публичных школ, в отличие от средневековых школ?\n"
     ]
    },
    {
     "name": "stderr",
     "output_type": "stream",
     "text": [
      "2025-05-29 04:40:37,099 - INFO - HTTP Request: POST http://176.99.133.173:11434/v1/chat/completions \"HTTP/1.1 200 OK\"\n",
      "2025-05-29 04:40:37,114 - INFO - rag_search_context: {\"room_uuid\": \"77779de4-851e-411f-b1e4-acf69268c8b6\"}\n",
      "2025-05-29 04:40:57,904 - INFO - HTTP Request: POST http://176.99.133.173:11434/v1/chat/completions \"HTTP/1.1 200 OK\"\n",
      "2025-05-29 04:40:59,491 - INFO - HTTP Request: POST http://176.99.133.173:11434/v1/chat/completions \"HTTP/1.1 200 OK\"\n",
      "2025-05-29 04:41:00,634 - INFO - HTTP Request: POST http://176.99.133.173:11434/v1/chat/completions \"HTTP/1.1 200 OK\"\n",
      "2025-05-29 04:41:01,883 - INFO - HTTP Request: POST http://176.99.133.173:11434/v1/chat/completions \"HTTP/1.1 200 OK\"\n",
      "2025-05-29 04:41:03,271 - INFO - HTTP Request: POST http://176.99.133.173:11434/v1/chat/completions \"HTTP/1.1 200 OK\"\n",
      "2025-05-29 04:41:04,660 - INFO - HTTP Request: POST http://176.99.133.173:11434/v1/chat/completions \"HTTP/1.1 200 OK\"\n",
      "2025-05-29 04:41:08,126 - INFO - HTTP Request: POST http://176.99.133.173:11434/v1/chat/completions \"HTTP/1.1 200 OK\"\n"
     ]
    },
    {
     "name": "stdout",
     "output_type": "stream",
     "text": [
      "context precision=0.9999999999666667 context recall=1.0\n",
      "mean context precision=0.9166666665986112 mean context recall=1.0\n",
      "В каком порядке Томас Арнольд перечислил воспитательные цели публичной школы?\n"
     ]
    },
    {
     "name": "stderr",
     "output_type": "stream",
     "text": [
      "2025-05-29 04:41:08,907 - INFO - HTTP Request: POST http://176.99.133.173:11434/v1/chat/completions \"HTTP/1.1 200 OK\"\n"
     ]
    },
    {
     "name": "stdout",
     "output_type": "stream",
     "text": [
      "'ranked_results'\n",
      "Какие виды спорта доминируют в публичных школах и почему?\n"
     ]
    },
    {
     "name": "stderr",
     "output_type": "stream",
     "text": [
      "2025-05-29 04:41:09,536 - INFO - HTTP Request: POST http://176.99.133.173:11434/v1/chat/completions \"HTTP/1.1 200 OK\"\n"
     ]
    },
    {
     "name": "stdout",
     "output_type": "stream",
     "text": [
      "'ranked_results'\n",
      "Что, по мнению англичан, обретает хороший игрок в составе школьной команды?\n"
     ]
    },
    {
     "name": "stderr",
     "output_type": "stream",
     "text": [
      "2025-05-29 04:41:10,054 - INFO - HTTP Request: POST http://176.99.133.173:11434/v1/chat/completions \"HTTP/1.1 200 OK\"\n"
     ]
    },
    {
     "name": "stdout",
     "output_type": "stream",
     "text": [
      "'ranked_results'\n",
      "Как публичные школы видоизменили средневековый рыцарский кодекс чести?\n"
     ]
    },
    {
     "name": "stderr",
     "output_type": "stream",
     "text": [
      "2025-05-29 04:41:10,674 - INFO - HTTP Request: POST http://176.99.133.173:11434/v1/chat/completions \"HTTP/1.1 200 OK\"\n",
      "2025-05-29 04:41:10,688 - INFO - rag_search_context: {\"room_uuid\": \"77779de4-851e-411f-b1e4-acf69268c8b6\"}\n",
      "2025-05-29 04:41:26,935 - INFO - HTTP Request: POST http://176.99.133.173:11434/v1/chat/completions \"HTTP/1.1 200 OK\"\n",
      "2025-05-29 04:41:28,562 - INFO - HTTP Request: POST http://176.99.133.173:11434/v1/chat/completions \"HTTP/1.1 200 OK\"\n",
      "2025-05-29 04:41:30,204 - INFO - HTTP Request: POST http://176.99.133.173:11434/v1/chat/completions \"HTTP/1.1 200 OK\"\n",
      "2025-05-29 04:41:31,629 - INFO - HTTP Request: POST http://176.99.133.173:11434/v1/chat/completions \"HTTP/1.1 200 OK\"\n",
      "2025-05-29 04:41:32,924 - INFO - HTTP Request: POST http://176.99.133.173:11434/v1/chat/completions \"HTTP/1.1 200 OK\"\n",
      "2025-05-29 04:41:35,389 - INFO - HTTP Request: POST http://176.99.133.173:11434/v1/chat/completions \"HTTP/1.1 200 OK\"\n",
      "2025-05-29 04:41:38,822 - INFO - HTTP Request: POST http://176.99.133.173:11434/v1/chat/completions \"HTTP/1.1 200 OK\"\n"
     ]
    },
    {
     "name": "stdout",
     "output_type": "stream",
     "text": [
      "context precision=0.94999999997625 context recall=1.0\n",
      "mean context precision=0.9214285713668453 mean context recall=1.0\n",
      "Какие два нововведения Томаса Арнольда, помимо спорта, упоминаются в тексте?\n"
     ]
    },
    {
     "name": "stderr",
     "output_type": "stream",
     "text": [
      "2025-05-29 04:41:41,728 - INFO - HTTP Request: POST http://176.99.133.173:11434/v1/chat/completions \"HTTP/1.1 200 OK\"\n",
      "2025-05-29 04:41:41,745 - INFO - rag_search_context: {\"room_uuid\": \"77779de4-851e-411f-b1e4-acf69268c8b6\"}\n",
      "2025-05-29 04:41:57,513 - INFO - HTTP Request: POST http://176.99.133.173:11434/v1/chat/completions \"HTTP/1.1 200 OK\"\n",
      "2025-05-29 04:41:58,914 - INFO - HTTP Request: POST http://176.99.133.173:11434/v1/chat/completions \"HTTP/1.1 200 OK\"\n",
      "2025-05-29 04:42:00,399 - INFO - HTTP Request: POST http://176.99.133.173:11434/v1/chat/completions \"HTTP/1.1 200 OK\"\n",
      "2025-05-29 04:42:01,933 - INFO - HTTP Request: POST http://176.99.133.173:11434/v1/chat/completions \"HTTP/1.1 200 OK\"\n",
      "2025-05-29 04:42:03,252 - INFO - HTTP Request: POST http://176.99.133.173:11434/v1/chat/completions \"HTTP/1.1 200 OK\"\n",
      "2025-05-29 04:42:04,450 - INFO - HTTP Request: POST http://176.99.133.173:11434/v1/chat/completions \"HTTP/1.1 200 OK\"\n",
      "2025-05-29 04:42:09,462 - INFO - HTTP Request: POST http://176.99.133.173:11434/v1/chat/completions \"HTTP/1.1 200 OK\"\n"
     ]
    },
    {
     "name": "stdout",
     "output_type": "stream",
     "text": [
      "context precision=0.3333333333 context recall=1.0\n",
      "mean context precision=0.8479166666084896 mean context recall=1.0\n",
      "Как организационно устроена публичная школа для углубления субординации?\n"
     ]
    },
    {
     "name": "stderr",
     "output_type": "stream",
     "text": [
      "2025-05-29 04:42:10,191 - INFO - HTTP Request: POST http://176.99.133.173:11434/v1/chat/completions \"HTTP/1.1 200 OK\"\n",
      "2025-05-29 04:42:10,204 - INFO - rag_search_context: {\"room_uuid\": \"77779de4-851e-411f-b1e4-acf69268c8b6\"}\n",
      "2025-05-29 04:42:35,314 - INFO - HTTP Request: POST http://176.99.133.173:11434/v1/chat/completions \"HTTP/1.1 200 OK\"\n",
      "2025-05-29 04:42:36,967 - INFO - HTTP Request: POST http://176.99.133.173:11434/v1/chat/completions \"HTTP/1.1 200 OK\"\n",
      "2025-05-29 04:42:38,446 - INFO - HTTP Request: POST http://176.99.133.173:11434/v1/chat/completions \"HTTP/1.1 200 OK\"\n",
      "2025-05-29 04:42:39,815 - INFO - HTTP Request: POST http://176.99.133.173:11434/v1/chat/completions \"HTTP/1.1 200 OK\"\n",
      "2025-05-29 04:42:41,029 - INFO - HTTP Request: POST http://176.99.133.173:11434/v1/chat/completions \"HTTP/1.1 200 OK\"\n",
      "2025-05-29 04:42:42,348 - INFO - HTTP Request: POST http://176.99.133.173:11434/v1/chat/completions \"HTTP/1.1 200 OK\"\n",
      "2025-05-29 04:42:45,768 - INFO - HTTP Request: POST http://176.99.133.173:11434/v1/chat/completions \"HTTP/1.1 200 OK\"\n"
     ]
    },
    {
     "name": "stdout",
     "output_type": "stream",
     "text": [
      "context precision=0.0 context recall=0.0\n",
      "mean context precision=0.7537037036519908 mean context recall=0.8888888888888888\n",
      "Какой самый первый и самый суровый урок преподает публичная школа новичку через старшеклассников?\n"
     ]
    },
    {
     "name": "stderr",
     "output_type": "stream",
     "text": [
      "2025-05-29 04:42:46,523 - INFO - HTTP Request: POST http://176.99.133.173:11434/v1/chat/completions \"HTTP/1.1 200 OK\"\n",
      "2025-05-29 04:42:46,537 - INFO - rag_search_context: {\"room_uuid\": \"77779de4-851e-411f-b1e4-acf69268c8b6\"}\n",
      "2025-05-29 04:43:04,943 - INFO - HTTP Request: POST http://176.99.133.173:11434/v1/chat/completions \"HTTP/1.1 200 OK\"\n",
      "2025-05-29 04:43:07,181 - INFO - HTTP Request: POST http://176.99.133.173:11434/v1/chat/completions \"HTTP/1.1 200 OK\"\n",
      "2025-05-29 04:43:08,378 - INFO - HTTP Request: POST http://176.99.133.173:11434/v1/chat/completions \"HTTP/1.1 200 OK\"\n",
      "2025-05-29 04:43:09,846 - INFO - HTTP Request: POST http://176.99.133.173:11434/v1/chat/completions \"HTTP/1.1 200 OK\"\n",
      "2025-05-29 04:43:11,548 - INFO - HTTP Request: POST http://176.99.133.173:11434/v1/chat/completions \"HTTP/1.1 200 OK\"\n",
      "2025-05-29 04:43:12,848 - INFO - HTTP Request: POST http://176.99.133.173:11434/v1/chat/completions \"HTTP/1.1 200 OK\"\n",
      "2025-05-29 04:43:16,861 - INFO - HTTP Request: POST http://176.99.133.173:11434/v1/chat/completions \"HTTP/1.1 200 OK\"\n",
      "2025-05-29 04:43:19,913 - INFO - HTTP Request: POST http://176.99.133.173:11434/v1/chat/completions \"HTTP/1.1 200 OK\"\n",
      "2025-05-29 04:43:22,960 - INFO - HTTP Request: POST http://176.99.133.173:11434/v1/chat/completions \"HTTP/1.1 200 OK\"\n",
      "2025-05-29 04:43:28,352 - INFO - HTTP Request: POST http://176.99.133.173:11434/v1/chat/completions \"HTTP/1.1 200 OK\"\n",
      "2025-05-29 04:43:28,362 - ERROR - Prompt fix_output_format failed to parse output: The output parser failed to parse the output including retries.\n",
      "2025-05-29 04:43:28,363 - ERROR - Prompt fix_output_format failed to parse output: The output parser failed to parse the output including retries.\n",
      "2025-05-29 04:43:28,363 - ERROR - Prompt fix_output_format failed to parse output: The output parser failed to parse the output including retries.\n",
      "2025-05-29 04:43:28,364 - ERROR - Prompt context_recall_classification_prompt failed to parse output: The output parser failed to parse the output including retries.\n"
     ]
    },
    {
     "name": "stdout",
     "output_type": "stream",
     "text": [
      "The output parser failed to parse the output including retries.\n",
      "Какими методами прививают идеи субординации новичкам в английской публичной школе?\n"
     ]
    },
    {
     "name": "stderr",
     "output_type": "stream",
     "text": [
      "2025-05-29 04:43:29,155 - INFO - HTTP Request: POST http://176.99.133.173:11434/v1/chat/completions \"HTTP/1.1 200 OK\"\n"
     ]
    },
    {
     "name": "stdout",
     "output_type": "stream",
     "text": [
      "'ranked_results'\n",
      "Какова роль выпускного (шестого) класса в публичной школе?\n"
     ]
    },
    {
     "name": "stderr",
     "output_type": "stream",
     "text": [
      "2025-05-29 04:43:29,677 - INFO - HTTP Request: POST http://176.99.133.173:11434/v1/chat/completions \"HTTP/1.1 200 OK\"\n",
      "2025-05-29 04:43:29,689 - INFO - rag_search_context: {\"room_uuid\": \"77779de4-851e-411f-b1e4-acf69268c8b6\"}\n",
      "2025-05-29 04:43:50,630 - INFO - HTTP Request: POST http://176.99.133.173:11434/v1/chat/completions \"HTTP/1.1 200 OK\"\n",
      "2025-05-29 04:43:52,231 - INFO - HTTP Request: POST http://176.99.133.173:11434/v1/chat/completions \"HTTP/1.1 200 OK\"\n",
      "2025-05-29 04:43:53,434 - INFO - HTTP Request: POST http://176.99.133.173:11434/v1/chat/completions \"HTTP/1.1 200 OK\"\n",
      "2025-05-29 04:43:54,725 - INFO - HTTP Request: POST http://176.99.133.173:11434/v1/chat/completions \"HTTP/1.1 200 OK\"\n",
      "2025-05-29 04:43:56,002 - INFO - HTTP Request: POST http://176.99.133.173:11434/v1/chat/completions \"HTTP/1.1 200 OK\"\n",
      "2025-05-29 04:43:57,438 - INFO - HTTP Request: POST http://176.99.133.173:11434/v1/chat/completions \"HTTP/1.1 200 OK\"\n",
      "2025-05-29 04:44:01,340 - INFO - HTTP Request: POST http://176.99.133.173:11434/v1/chat/completions \"HTTP/1.1 200 OK\"\n"
     ]
    },
    {
     "name": "stdout",
     "output_type": "stream",
     "text": [
      "context precision=0.0 context recall=0.0\n",
      "mean context precision=0.6783333332867917 mean context recall=0.8\n",
      "Какова основная цель изоляции подростка от семьи и внешнего мира в системе воспитания публичных школ?\n"
     ]
    },
    {
     "name": "stderr",
     "output_type": "stream",
     "text": [
      "2025-05-29 04:44:02,068 - INFO - HTTP Request: POST http://176.99.133.173:11434/v1/chat/completions \"HTTP/1.1 200 OK\"\n"
     ]
    },
    {
     "name": "stdout",
     "output_type": "stream",
     "text": [
      "'ranked_results'\n",
      "Какие спартанские условия жизни упоминаются как средство закалки в публичных школах?\n"
     ]
    },
    {
     "name": "stderr",
     "output_type": "stream",
     "text": [
      "2025-05-29 04:44:02,614 - INFO - HTTP Request: POST http://176.99.133.173:11434/v1/chat/completions \"HTTP/1.1 200 OK\"\n",
      "2025-05-29 04:44:02,627 - INFO - rag_search_context: {\"room_uuid\": \"77779de4-851e-411f-b1e4-acf69268c8b6\"}\n",
      "2025-05-29 04:44:21,163 - INFO - HTTP Request: POST http://176.99.133.173:11434/v1/chat/completions \"HTTP/1.1 200 OK\"\n",
      "2025-05-29 04:44:22,869 - INFO - HTTP Request: POST http://176.99.133.173:11434/v1/chat/completions \"HTTP/1.1 200 OK\"\n",
      "2025-05-29 04:44:24,116 - INFO - HTTP Request: POST http://176.99.133.173:11434/v1/chat/completions \"HTTP/1.1 200 OK\"\n",
      "2025-05-29 04:44:25,421 - INFO - HTTP Request: POST http://176.99.133.173:11434/v1/chat/completions \"HTTP/1.1 200 OK\"\n",
      "2025-05-29 04:44:26,871 - INFO - HTTP Request: POST http://176.99.133.173:11434/v1/chat/completions \"HTTP/1.1 200 OK\"\n",
      "2025-05-29 04:44:27,979 - INFO - HTTP Request: POST http://176.99.133.173:11434/v1/chat/completions \"HTTP/1.1 200 OK\"\n",
      "2025-05-29 04:44:32,649 - INFO - HTTP Request: POST http://176.99.133.173:11434/v1/chat/completions \"HTTP/1.1 200 OK\"\n"
     ]
    },
    {
     "name": "stdout",
     "output_type": "stream",
     "text": [
      "context precision=0.9999999999 context recall=1.0\n",
      "mean context precision=0.7075757575243561 mean context recall=0.8181818181818182\n",
      "Какой девиз, по мнению автора, мог бы подойти многим публичным школам относительно питания?\n"
     ]
    },
    {
     "name": "stderr",
     "output_type": "stream",
     "text": [
      "2025-05-29 04:44:33,286 - INFO - HTTP Request: POST http://176.99.133.173:11434/v1/chat/completions \"HTTP/1.1 200 OK\"\n"
     ]
    },
    {
     "name": "stdout",
     "output_type": "stream",
     "text": [
      "'ranked_results'\n",
      "Приведите пример суровых условий в публичной школе Гордонстоун.\n"
     ]
    },
    {
     "name": "stderr",
     "output_type": "stream",
     "text": [
      "2025-05-29 04:44:33,824 - INFO - HTTP Request: POST http://176.99.133.173:11434/v1/chat/completions \"HTTP/1.1 200 OK\"\n"
     ]
    },
    {
     "name": "stdout",
     "output_type": "stream",
     "text": [
      "'ranked_results'\n",
      "Какую роль выполняют корпоративные галстуки, и особенно галстук публичной школы, в Британии?\n"
     ]
    },
    {
     "name": "stderr",
     "output_type": "stream",
     "text": [
      "2025-05-29 04:44:34,543 - INFO - HTTP Request: POST http://176.99.133.173:11434/v1/chat/completions \"HTTP/1.1 200 OK\"\n",
      "2025-05-29 04:44:34,555 - INFO - rag_search_context: {\"room_uuid\": \"77779de4-851e-411f-b1e4-acf69268c8b6\"}\n",
      "2025-05-29 04:45:01,517 - INFO - HTTP Request: POST http://176.99.133.173:11434/v1/chat/completions \"HTTP/1.1 200 OK\"\n",
      "2025-05-29 04:45:03,806 - INFO - HTTP Request: POST http://176.99.133.173:11434/v1/chat/completions \"HTTP/1.1 200 OK\"\n",
      "2025-05-29 04:45:04,942 - INFO - HTTP Request: POST http://176.99.133.173:11434/v1/chat/completions \"HTTP/1.1 200 OK\"\n",
      "2025-05-29 04:45:06,121 - INFO - HTTP Request: POST http://176.99.133.173:11434/v1/chat/completions \"HTTP/1.1 200 OK\"\n",
      "2025-05-29 04:45:07,409 - INFO - HTTP Request: POST http://176.99.133.173:11434/v1/chat/completions \"HTTP/1.1 200 OK\"\n",
      "2025-05-29 04:45:08,692 - INFO - HTTP Request: POST http://176.99.133.173:11434/v1/chat/completions \"HTTP/1.1 200 OK\"\n",
      "2025-05-29 04:45:13,588 - INFO - HTTP Request: POST http://176.99.133.173:11434/v1/chat/completions \"HTTP/1.1 200 OK\"\n"
     ]
    },
    {
     "name": "stdout",
     "output_type": "stream",
     "text": [
      "context precision=0.9166666666361111 context recall=1.0\n",
      "mean context precision=0.7249999999503357 mean context recall=0.8333333333333334\n",
      "Какая игра слов существует в английском языке, связанная со «школьными галстуками»?\n"
     ]
    },
    {
     "name": "stderr",
     "output_type": "stream",
     "text": [
      "2025-05-29 04:45:14,236 - INFO - HTTP Request: POST http://176.99.133.173:11434/v1/chat/completions \"HTTP/1.1 200 OK\"\n",
      "2025-05-29 04:45:14,250 - INFO - rag_search_context: {\"room_uuid\": \"77779de4-851e-411f-b1e4-acf69268c8b6\"}\n",
      "2025-05-29 04:45:32,020 - INFO - HTTP Request: POST http://176.99.133.173:11434/v1/chat/completions \"HTTP/1.1 200 OK\"\n",
      "2025-05-29 04:45:33,795 - INFO - HTTP Request: POST http://176.99.133.173:11434/v1/chat/completions \"HTTP/1.1 200 OK\"\n",
      "2025-05-29 04:45:35,269 - INFO - HTTP Request: POST http://176.99.133.173:11434/v1/chat/completions \"HTTP/1.1 200 OK\"\n",
      "2025-05-29 04:45:36,730 - INFO - HTTP Request: POST http://176.99.133.173:11434/v1/chat/completions \"HTTP/1.1 200 OK\"\n",
      "2025-05-29 04:45:37,952 - INFO - HTTP Request: POST http://176.99.133.173:11434/v1/chat/completions \"HTTP/1.1 200 OK\"\n",
      "2025-05-29 04:45:39,214 - INFO - HTTP Request: POST http://176.99.133.173:11434/v1/chat/completions \"HTTP/1.1 200 OK\"\n",
      "2025-05-29 04:45:42,947 - INFO - HTTP Request: POST http://176.99.133.173:11434/v1/chat/completions \"HTTP/1.1 200 OK\"\n"
     ]
    },
    {
     "name": "stdout",
     "output_type": "stream",
     "text": [
      "context precision=0.9999999999666667 context recall=1.0\n",
      "mean context precision=0.746153846105438 mean context recall=0.8461538461538461\n",
      "Какие четыре школы составляют «элиту элит» среди наиболее старых публичных школ?\n"
     ]
    },
    {
     "name": "stderr",
     "output_type": "stream",
     "text": [
      "2025-05-29 04:45:44,696 - INFO - HTTP Request: POST http://176.99.133.173:11434/v1/chat/completions \"HTTP/1.1 200 OK\"\n"
     ]
    },
    {
     "name": "stdout",
     "output_type": "stream",
     "text": [
      "'ranked_results'\n",
      "Чем Итон отличается от других публичных школ в плане близости к власти и формирования кадров?\n"
     ]
    },
    {
     "name": "stderr",
     "output_type": "stream",
     "text": [
      "2025-05-29 04:45:45,286 - INFO - HTTP Request: POST http://176.99.133.173:11434/v1/chat/completions \"HTTP/1.1 200 OK\"\n",
      "2025-05-29 04:45:45,298 - INFO - rag_search_context: {\"room_uuid\": \"77779de4-851e-411f-b1e4-acf69268c8b6\"}\n",
      "2025-05-29 04:46:03,599 - INFO - HTTP Request: POST http://176.99.133.173:11434/v1/chat/completions \"HTTP/1.1 200 OK\"\n",
      "2025-05-29 04:46:05,438 - INFO - HTTP Request: POST http://176.99.133.173:11434/v1/chat/completions \"HTTP/1.1 200 OK\"\n",
      "2025-05-29 04:46:06,905 - INFO - HTTP Request: POST http://176.99.133.173:11434/v1/chat/completions \"HTTP/1.1 200 OK\"\n",
      "2025-05-29 04:46:08,214 - INFO - HTTP Request: POST http://176.99.133.173:11434/v1/chat/completions \"HTTP/1.1 200 OK\"\n",
      "2025-05-29 04:46:09,687 - INFO - HTTP Request: POST http://176.99.133.173:11434/v1/chat/completions \"HTTP/1.1 200 OK\"\n",
      "2025-05-29 04:46:11,128 - INFO - HTTP Request: POST http://176.99.133.173:11434/v1/chat/completions \"HTTP/1.1 200 OK\"\n",
      "2025-05-29 04:46:17,400 - INFO - HTTP Request: POST http://176.99.133.173:11434/v1/chat/completions \"HTTP/1.1 200 OK\"\n"
     ]
    },
    {
     "name": "stdout",
     "output_type": "stream",
     "text": [
      "context precision=0.99999999995 context recall=1.0\n",
      "mean context precision=0.7642857142371925 mean context recall=0.8571428571428571\n",
      "Чем Винчестер отличается от Итона в плане отбора учеников и подготовки?\n"
     ]
    },
    {
     "name": "stderr",
     "output_type": "stream",
     "text": [
      "2025-05-29 04:46:18,149 - INFO - HTTP Request: POST http://176.99.133.173:11434/v1/chat/completions \"HTTP/1.1 200 OK\"\n"
     ]
    },
    {
     "name": "stdout",
     "output_type": "stream",
     "text": [
      "'ranked_results'\n",
      "О чем в первую очередь думают английские родители, выбирая для сына публичную школу вроде Итона или Винчестера?\n"
     ]
    },
    {
     "name": "stderr",
     "output_type": "stream",
     "text": [
      "2025-05-29 04:46:18,838 - INFO - HTTP Request: POST http://176.99.133.173:11434/v1/chat/completions \"HTTP/1.1 200 OK\"\n",
      "2025-05-29 04:46:18,853 - INFO - rag_search_context: {\"room_uuid\": \"77779de4-851e-411f-b1e4-acf69268c8b6\"}\n",
      "2025-05-29 04:46:44,103 - INFO - HTTP Request: POST http://176.99.133.173:11434/v1/chat/completions \"HTTP/1.1 200 OK\"\n",
      "2025-05-29 04:46:45,869 - INFO - HTTP Request: POST http://176.99.133.173:11434/v1/chat/completions \"HTTP/1.1 200 OK\"\n",
      "2025-05-29 04:46:47,451 - INFO - HTTP Request: POST http://176.99.133.173:11434/v1/chat/completions \"HTTP/1.1 200 OK\"\n",
      "2025-05-29 04:46:48,846 - INFO - HTTP Request: POST http://176.99.133.173:11434/v1/chat/completions \"HTTP/1.1 200 OK\"\n",
      "2025-05-29 04:46:50,539 - INFO - HTTP Request: POST http://176.99.133.173:11434/v1/chat/completions \"HTTP/1.1 200 OK\"\n",
      "2025-05-29 04:46:51,824 - INFO - HTTP Request: POST http://176.99.133.173:11434/v1/chat/completions \"HTTP/1.1 200 OK\"\n",
      "2025-05-29 04:46:57,154 - INFO - HTTP Request: POST http://176.99.133.173:11434/v1/chat/completions \"HTTP/1.1 200 OK\"\n"
     ]
    },
    {
     "name": "stdout",
     "output_type": "stream",
     "text": [
      "context precision=0.36666666664833336 context recall=1.0\n",
      "mean context precision=0.7377777777312686 mean context recall=0.8666666666666667\n"
     ]
    }
   ],
   "execution_count": 6
  },
  {
   "metadata": {
    "ExecuteTime": {
     "end_time": "2025-05-29T01:46:57.231380Z",
     "start_time": "2025-05-29T01:46:57.217636Z"
    }
   },
   "cell_type": "code",
   "source": [
    "print(\"final context precision = \", np.mean(precisions))\n",
    "print(\"final context recall = \", np.mean(recalls))"
   ],
   "id": "f30b3fe8f115a5c5",
   "outputs": [
    {
     "name": "stdout",
     "output_type": "stream",
     "text": [
      "final context precision =  0.7377777777312686\n",
      "final context recall =  0.8666666666666667\n"
     ]
    }
   ],
   "execution_count": 7
  },
  {
   "metadata": {
    "ExecuteTime": {
     "end_time": "2025-05-29T01:46:57.237351Z",
     "start_time": "2025-05-29T01:46:57.233151Z"
    }
   },
   "cell_type": "code",
   "source": "",
   "id": "5f9e8261e773107c",
   "outputs": [],
   "execution_count": 7
  },
  {
   "metadata": {
    "ExecuteTime": {
     "end_time": "2025-05-29T01:46:57.241596Z",
     "start_time": "2025-05-29T01:46:57.239031Z"
    }
   },
   "cell_type": "code",
   "source": "",
   "id": "36a67967daaebc98",
   "outputs": [],
   "execution_count": 7
  }
 ],
 "metadata": {
  "kernelspec": {
   "display_name": "Python 3",
   "language": "python",
   "name": "python3"
  },
  "language_info": {
   "codemirror_mode": {
    "name": "ipython",
    "version": 2
   },
   "file_extension": ".py",
   "mimetype": "text/x-python",
   "name": "python",
   "nbconvert_exporter": "python",
   "pygments_lexer": "ipython2",
   "version": "2.7.6"
  }
 },
 "nbformat": 4,
 "nbformat_minor": 5
}
